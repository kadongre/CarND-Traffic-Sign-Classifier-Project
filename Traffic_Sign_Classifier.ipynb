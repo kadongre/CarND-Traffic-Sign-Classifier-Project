{
 "cells": [
  {
   "cell_type": "markdown",
   "metadata": {},
   "source": [
    "# Self-Driving Car Engineer Nanodegree\n",
    "\n",
    "## Deep Learning\n",
    "\n",
    "## Project: Build a Traffic Sign Recognition Classifier\n",
    "\n",
    "In this notebook, a template is provided for you to implement your functionality in stages, which is required to successfully complete this project. If additional code is required that cannot be included in the notebook, be sure that the Python code is successfully imported and included in your submission if necessary. \n",
    "\n",
    "> **Note**: Once you have completed all of the code implementations, you need to finalize your work by exporting the iPython Notebook as an HTML document. Before exporting the notebook to html, all of the code cells need to have been run so that reviewers can see the final implementation and output. You can then export the notebook by using the menu above and navigating to  \\n\",\n",
    "    \"**File -> Download as -> HTML (.html)**. Include the finished document along with this notebook as your submission. \n",
    "\n",
    "In addition to implementing code, there is a writeup to complete. The writeup should be completed in a separate file, which can be either a markdown file or a pdf document. There is a [write up template](https://github.com/udacity/CarND-Traffic-Sign-Classifier-Project/blob/master/writeup_template.md) that can be used to guide the writing process. Completing the code template and writeup template will cover all of the [rubric points](https://review.udacity.com/#!/rubrics/481/view) for this project.\n",
    "\n",
    "The [rubric](https://review.udacity.com/#!/rubrics/481/view) contains \"Stand Out Suggestions\" for enhancing the project beyond the minimum requirements. The stand out suggestions are optional. If you decide to pursue the \"stand out suggestions\", you can include the code in this Ipython notebook and also discuss the results in the writeup file.\n",
    "\n",
    "\n",
    ">**Note:** Code and Markdown cells can be executed using the **Shift + Enter** keyboard shortcut. In addition, Markdown cells can be edited by typically double-clicking the cell to enter edit mode."
   ]
  },
  {
   "cell_type": "markdown",
   "metadata": {},
   "source": [
    "---\n",
    "## Step 0: Load The Data"
   ]
  },
  {
   "cell_type": "code",
   "execution_count": null,
   "metadata": {
    "collapsed": false
   },
   "outputs": [],
   "source": [
    "# Load pickled data\n",
    "import pickle\n",
    "\n",
    "training_file = \"./train.p\"\n",
    "testing_file = \"./test.p\"\n",
    "\n",
    "validation_file= \"./valid.p\"\n",
    "\n",
    "\n",
    "with open(training_file, mode='rb') as f:\n",
    "    train = pickle.load(f)\n",
    "with open(validation_file, mode='rb') as f:\n",
    "    valid = pickle.load(f)\n",
    "with open(testing_file, mode='rb') as f:\n",
    "    test = pickle.load(f)\n",
    "    \n",
    "X_train, y_train = train['features'], train['labels']\n",
    "X_valid, y_valid = valid['features'], valid['labels']\n",
    "X_test, y_test = test['features'], test['labels']\n",
    "\n",
    "print(\"X_train shape\", X_train.shape)\n",
    "print(\"y_train shape\", y_train.shape)\n",
    "\n",
    "print(\"X_test shape\", X_test.shape)\n",
    "print(\"y_test shape\", y_test.shape)\n",
    "\n",
    "print(\"X_valid shape\", X_valid.shape)\n",
    "print(\"y_valid shape\", y_valid.shape)"
   ]
  },
  {
   "cell_type": "markdown",
   "metadata": {},
   "source": [
    "---\n",
    "\n",
    "## Step 1: Dataset Summary & Exploration\n",
    "\n",
    "The pickled data is a dictionary with 4 key/value pairs:\n",
    "\n",
    "- `'features'` is a 4D array containing raw pixel data of the traffic sign images, (num examples, width, height, channels).\n",
    "- `'labels'` is a 1D array containing the label/class id of the traffic sign. The file `signnames.csv` contains id -> name mappings for each id.\n",
    "- `'sizes'` is a list containing tuples, (width, height) representing the the original width and height the image.\n",
    "- `'coords'` is a list containing tuples, (x1, y1, x2, y2) representing coordinates of a bounding box around the sign in the image. **THESE COORDINATES ASSUME THE ORIGINAL IMAGE. THE PICKLED DATA CONTAINS RESIZED VERSIONS (32 by 32) OF THESE IMAGES**\n",
    "\n",
    "Complete the basic data summary below. Use python, numpy and/or pandas methods to calculate the data summary rather than hard coding the results. For example, the [pandas shape method](http://pandas.pydata.org/pandas-docs/stable/generated/pandas.DataFrame.shape.html) might be useful for calculating some of the summary results. "
   ]
  },
  {
   "cell_type": "markdown",
   "metadata": {},
   "source": [
    "### Provide a Basic Summary of the Data Set Using Python, Numpy and/or Pandas"
   ]
  },
  {
   "cell_type": "code",
   "execution_count": null,
   "metadata": {
    "collapsed": false
   },
   "outputs": [],
   "source": [
    "import numpy as np\n",
    "\n",
    "n_train = len(X_train)\n",
    "\n",
    "n_test = len(X_test)\n",
    "\n",
    "# TODO: What's the shape of an traffic sign image?\n",
    "image_shape = X_train[0].shape\n",
    "\n",
    "# TODO: How many unique classes/labels there are in the dataset.\n",
    "n_classes = len(np.unique(y_train))\n",
    "\n",
    "print(\"Number of training examples =\", n_train)\n",
    "print(\"Number of testing examples =\", n_test)\n",
    "print(\"Image data shape =\", image_shape)\n",
    "print(\"Number of classes =\", n_classes)"
   ]
  },
  {
   "cell_type": "markdown",
   "metadata": {},
   "source": [
    "### Include an exploratory visualization of the dataset"
   ]
  },
  {
   "cell_type": "markdown",
   "metadata": {},
   "source": [
    "Visualize the German Traffic Signs Dataset using the pickled file(s). This is open ended, suggestions include: plotting traffic sign images, plotting the count of each sign, etc.\n",
    "\n",
    "The [Matplotlib](http://matplotlib.org/) [examples](http://matplotlib.org/examples/index.html) and [gallery](http://matplotlib.org/gallery.html) pages are a great resource for doing visualizations in Python.\n",
    "\n",
    "**NOTE:** It's recommended you start with something simple first. If you wish to do more, come back to it after you've completed the rest of the sections."
   ]
  },
  {
   "cell_type": "code",
   "execution_count": null,
   "metadata": {
    "collapsed": false
   },
   "outputs": [],
   "source": [
    "import matplotlib.pyplot as plt\n",
    "import pandas as pd\n",
    "import random\n",
    "\n",
    "# Visualizations will be shown in the notebook.\n",
    "%matplotlib inline\n",
    "\n",
    "sign_names = pd.read_csv('signnames.csv')\n",
    "y_labels = sign_names['SignName']\n",
    "\n",
    "#visualize random images in a 7 x 7 grid\n",
    "r = 7\n",
    "c = 7\n",
    "plt_figure, plt_axis = plt.subplots(r, c, figsize=(14, 14))\n",
    "plt_figure.subplots_adjust(hspace = 0.2)\n",
    "plt_axis = plt_axis.flatten()\n",
    "for i in range(r*c):\n",
    "    image_index = np.random.randint(0,len(y_train))\n",
    "    plt_axis[i].imshow(X_train[image_index])\n",
    "    plt_axis[i].text(2, 4,str(y_train[image_index]), bbox={'facecolor' : 'black'}, color='white')\n",
    "    plt_axis[i].set_title(y_labels[y_train[image_index]], fontsize=7)\n",
    "    plt_axis[i].axis('off')"
   ]
  },
  {
   "cell_type": "code",
   "execution_count": null,
   "metadata": {
    "collapsed": false
   },
   "outputs": [],
   "source": [
    "#visualize the distribution\n",
    "bin_counts = [y_train.tolist().count(class_id) for class_id in range(n_classes)]\n",
    "plt.bar(range(n_classes), bin_counts)\n",
    "plt.show()\n",
    "\n",
    "bin_counts_desc = pd.DataFrame({'Class' : range(n_classes), \n",
    "                    'Label' : y_labels, \n",
    "                    'Frequency' : bin_counts }).sort_values(['Frequency'], ascending=False)\n",
    "print(bin_counts_desc.to_string(index=False))"
   ]
  },
  {
   "cell_type": "markdown",
   "metadata": {},
   "source": [
    "----\n",
    "\n",
    "## Step 2: Design and Test a Model Architecture\n",
    "\n",
    "Design and implement a deep learning model that learns to recognize traffic signs. Train and test your model on the [German Traffic Sign Dataset](http://benchmark.ini.rub.de/?section=gtsrb&subsection=dataset).\n",
    "\n",
    "There are various aspects to consider when thinking about this problem:\n",
    "\n",
    "- Neural network architecture\n",
    "- Play around preprocessing techniques (normalization, rgb to grayscale, etc)\n",
    "- Number of examples per label (some have more than others).\n",
    "- Generate fake data.\n",
    "\n",
    "Here is an example of a [published baseline model on this problem](http://yann.lecun.com/exdb/publis/pdf/sermanet-ijcnn-11.pdf). It's not required to be familiar with the approach used in the paper but, it's good practice to try to read papers like these.\n",
    "\n",
    "**NOTE:** The LeNet-5 implementation shown in the [classroom](https://classroom.udacity.com/nanodegrees/nd013/parts/fbf77062-5703-404e-b60c-95b78b2f3f9e/modules/6df7ae49-c61c-4bb2-a23e-6527e69209ec/lessons/601ae704-1035-4287-8b11-e2c2716217ad/concepts/d4aca031-508f-4e0b-b493-e7b706120f81) at the end of the CNN lesson is a solid starting point. You'll have to change the number of classes and possibly the preprocessing, but aside from that it's plug and play!"
   ]
  },
  {
   "cell_type": "markdown",
   "metadata": {},
   "source": [
    "### Pre-process the Data Set (normalization, grayscale, etc.)"
   ]
  },
  {
   "cell_type": "markdown",
   "metadata": {},
   "source": [
    "Use the code cell (or multiple code cells, if necessary) to implement the first step of your project."
   ]
  },
  {
   "cell_type": "code",
   "execution_count": null,
   "metadata": {
    "collapsed": false
   },
   "outputs": [],
   "source": [
    "#pre-process image\n",
    "import cv2\n",
    "import random\n",
    "\n",
    "X_train_updated = []\n",
    "y_train_updated = []\n",
    "\n",
    "n_debug = 10\n",
    "debug_images = []\n",
    "debug_classes = []\n",
    "debug_indexes = set(random.sample(range(n_train), n_debug))\n",
    "\n",
    "clahe = cv2.createCLAHE(clipLimit=7.0, tileGridSize=(3,3))\n",
    "for image_index in range(n_train):    \n",
    "    rgb_image = X_train[image_index]\n",
    "    \n",
    "    #convert to gray-scale\n",
    "    grayscale_image = cv2.cvtColor(rgb_image, cv2.COLOR_RGB2GRAY)\n",
    "    \n",
    "    #apply histogram equilization to compensate for diffrent brightness\n",
    "    hist_equaliized_image1 = cv2.equalizeHist(grayscale_image)\n",
    "\n",
    "    #apply adaptive histogram equilization to compensate for diffrent brightness\n",
    "    hist_equaliized_image2 = clahe.apply(grayscale_image)\n",
    "\n",
    "    if image_index in debug_indexes:\n",
    "        #print(image_index)\n",
    "        debug_images.append(rgb_image)\n",
    "        debug_images.append(grayscale_image)\n",
    "        debug_images.append(hist_equaliized_image1)\n",
    "        debug_images.append(hist_equaliized_image2)\n",
    "        debug_classes.append(y_train[image_index])\n",
    "\n",
    "    X_train_updated.append(hist_equaliized_image2)\n",
    "    y_train_updated.append(y_train[image_index])\n",
    "\n",
    "r = n_debug\n",
    "c = 4\n",
    "plt_figure, plt_axis = plt.subplots(r, c, figsize=(10, 15))\n",
    "plt_figure.subplots_adjust(hspace = 0.2)\n",
    "plt_axis = plt_axis.flatten()\n",
    "\n",
    "idx = 0\n",
    "for i in range(0, r*c, c):\n",
    "    plt_axis[i].imshow(debug_images[i])\n",
    "    plt_axis[i].set_title(str(debug_classes[idx])  + ' : ' + y_labels[debug_classes[idx]], fontsize=7)\n",
    "    plt_axis[i].axis('off')    \n",
    "    \n",
    "    plt_axis[i+1].imshow(debug_images[i+1], cmap=\"gray\")\n",
    "    plt_axis[i+1].set_title('grayscale', fontsize=7)\n",
    "    plt_axis[i+1].axis('off')    \n",
    "\n",
    "    plt_axis[i+2].imshow(debug_images[i+2], cmap=\"gray\")\n",
    "    plt_axis[i+2].set_title('hist. equalization 1', fontsize=7)\n",
    "    plt_axis[i+2].axis('off')\n",
    "\n",
    "    plt_axis[i+3].imshow(debug_images[i+3], cmap=\"gray\")\n",
    "    plt_axis[i+3].set_title('hist. equalization 2', fontsize=7)\n",
    "    plt_axis[i+3].axis('off')\n",
    "\n",
    "    idx += 1\n",
    "plt.show()"
   ]
  },
  {
   "cell_type": "code",
   "execution_count": null,
   "metadata": {
    "collapsed": false
   },
   "outputs": [],
   "source": [
    "#determine which classes need to be augmented and how many times\n",
    "MIN_SAMPLES = 1000\n",
    "augmentation_multiplier = []\n",
    "for class_index in range(len(bin_counts)):\n",
    "    class_multiplier = MIN_SAMPLES//bin_counts[class_index]\n",
    "    augmentation_multiplier.append(class_multiplier)\n",
    "    #print(class_index, bin_counts[class_index], class_multiplier)\n",
    "\n",
    "\n",
    "#select random image indexes from non-zero classes to visualize the augmented images\n",
    "#debug_classes = (np.nonzero(augmentation_multiplier)[0]).tolist()\n",
    "#for dc in debug_classes:\n",
    "#    class_indexes = [ci for ci,cv in enumerate(y_train_updated) if cv == dc ]\n",
    "#    debug_indexes.append(random.choice(class_indexes))\n",
    "\n",
    "#agument images\n",
    "debug_images = []\n",
    "debug_classes = []\n",
    "augmention_classes = (np.nonzero(augmentation_multiplier)[0]).tolist()\n",
    "\n",
    "X_train_augmented = []\n",
    "y_train_augmented = []\n",
    "for image_index in range(len(X_train_updated)):\n",
    "    image_class = y_train_updated[image_index]\n",
    "    class_multiplier = augmentation_multiplier[image_class]\n",
    "    for i in range(0, class_multiplier, 1):                         \n",
    "        original_image = X_train_updated[image_index]\n",
    "        rows, cols = original_image.shape\n",
    "                \n",
    "        #translate\n",
    "        translated_image = original_image\n",
    "        if (random.choice([True, False])):\n",
    "            translate_M = np.float32([[1, 0, random.randrange(-4, 4)], [0, 1, random.randrange(-4, 4)]])\n",
    "            translated_image = cv2.warpAffine(translated_image, translate_M, (rows, cols))\n",
    "                         \n",
    "        #rotate\n",
    "        rotated_image = translated_image\n",
    "        if (random.choice([True, False])):\n",
    "            rotate_M = cv2.getRotationMatrix2D((cols/2,rows/2),random.randrange(-10, 10),1)\n",
    "            rotated_image = cv2.warpAffine(rotated_image, rotate_M, (rows, cols))            \n",
    "        \n",
    "        #skew\n",
    "        skewed_image = rotated_image\n",
    "        if (random.choice([True, False])):\n",
    "            pts1 = np.float32([[6,6], \n",
    "                               [26, 6], \n",
    "                               [6, 26]])\n",
    "            pts2 = np.float32([[6 + random.randrange(-3, 3),6 + random.randrange(-3, 3)], \n",
    "                               [26 + random.randrange(-3, 3), 6 + random.randrange(-3, 3)], \n",
    "                               [6 + random.randrange(-3, 3), 26 + random.randrange(-3, 3)]])\n",
    "            skew_M = cv2.getAffineTransform(pts1,pts2)\n",
    "            skewed_image = cv2.warpAffine(skewed_image, skew_M, (cols,rows))\n",
    "            \n",
    "        X_train_augmented.append(skewed_image)\n",
    "        y_train_augmented.append(image_class)\n",
    "                         \n",
    "        #if i == 0 and image_index in debug_indexes:\n",
    "        if i == 0 and image_class not in debug_classes:\n",
    "            debug_classes.append(image_class)\n",
    "            debug_images.append(original_image)\n",
    "            debug_images.append(translated_image)\n",
    "            debug_images.append(rotated_image)\n",
    "            debug_images.append(skewed_image)         \n",
    "        \n",
    "idx = 0\n",
    "n_debug = len(debug_classes)               \n",
    "\n",
    "plt_figure, plt_axis = plt.subplots(n_debug, 4, figsize=(4*3, n_debug*2))\n",
    "plt_figure.subplots_adjust(hspace = 0.2)\n",
    "plt_axis = plt_axis.flatten()\n",
    "\n",
    "for i in range(0, n_debug*4, 4):\n",
    "    plt_axis[i].imshow(debug_images[i], cmap=\"gray\")\n",
    "    plt_axis[i].set_title(str(debug_classes[idx]) + ':' + y_labels[debug_classes[idx]] , fontsize=7)\n",
    "    plt_axis[i].axis('off')    \n",
    "\n",
    "    plt_axis[i+1].imshow(debug_images[i+1], cmap=\"gray\")\n",
    "    plt_axis[i+1].set_title('translated', fontsize=7)\n",
    "    plt_axis[i+1].axis('off')    \n",
    "\n",
    "    plt_axis[i+2].imshow(debug_images[i+2], cmap=\"gray\")\n",
    "    plt_axis[i+2].set_title('rotated', fontsize=7)\n",
    "    plt_axis[i+2].axis('off')\n",
    "\n",
    "    plt_axis[i+3].imshow(debug_images[i+3], cmap=\"gray\")\n",
    "    plt_axis[i+3].set_title('skewed', fontsize=7)\n",
    "    plt_axis[i+3].axis('off')\n",
    "    \n",
    "    idx += 1"
   ]
  },
  {
   "cell_type": "code",
   "execution_count": null,
   "metadata": {
    "collapsed": false
   },
   "outputs": [],
   "source": [
    "#merge the augmented images and visualize the distributions\n",
    "X_train_updated.extend(X_train_augmented)\n",
    "y_train_updated.extend(y_train_augmented)\n",
    "\n",
    "bin_counts = [y_train_updated.count(class_id) for class_id in range(n_classes)]\n",
    "plt.bar(range(n_classes), bin_counts)\n",
    "plt.show()\n",
    "\n",
    "bin_counts_desc = pd.DataFrame({'Class' : range(n_classes), \n",
    "                    'Label' : y_labels, \n",
    "                    'Frequency' : bin_counts }).sort_values(['Frequency'], ascending=False)\n",
    "print(bin_counts_desc.to_string(index=False))\n",
    "\n",
    "#normalize the training images to (-1, 1)\n",
    "X_train_normalized = (np.array(X_train_updated, dtype=np.float32) - 128)/128\n",
    "print(\"Training dataset mean, min, max after normalizing : \", \n",
    "      np.mean(X_train_normalized), \n",
    "      np.min(X_train_normalized), \n",
    "      np.max(X_train_normalized))\n",
    "\n",
    "#convert y_train_updated to numpy array \n",
    "y_train_normalized = np.array(y_train_updated)\n",
    "\n",
    "from numpy import newaxis\n",
    "\n",
    "#reshape X_train_normalized for conv. layer\n",
    "X_train_normalized = X_train_normalized[..., newaxis]\n",
    "\n",
    "print(\"X_train shape\", X_train_normalized.shape)\n",
    "print(\"y_train shape\", y_train_normalized.shape)"
   ]
  },
  {
   "cell_type": "code",
   "execution_count": null,
   "metadata": {
    "collapsed": false
   },
   "outputs": [],
   "source": [
    "#update the grayscale conversion, histogram equilization and normalization to testing and validation images\n",
    "X_test_updated = np.array([cv2.cvtColor(image, cv2.COLOR_RGB2GRAY) for image in X_test])\n",
    "X_test_updated = np.array([clahe.apply(image) for image in X_test_updated])\n",
    "X_test_normalized = (np.array(X_test_updated, dtype=np.float32) - 128)/128\n",
    "\n",
    "print(\"Testing dataset mean, min, max after normalizing : \", \n",
    "      np.mean(X_test_normalized), \n",
    "      np.min(X_test_normalized), \n",
    "      np.max(X_test_normalized))\n",
    "\n",
    "X_valid_updated = np.array([cv2.cvtColor(image, cv2.COLOR_RGB2GRAY) for image in X_valid])\n",
    "X_valid_updated = np.array([clahe.apply(image) for image in X_valid_updated])\n",
    "X_valid_normalized = (np.array(X_valid_updated, dtype=np.float32) - 128)/128\n",
    "\n",
    "print(\"Validation dataset mean, min, max after normalizing : \", \n",
    "      np.mean(X_valid_normalized), \n",
    "      np.min(X_valid_normalized), \n",
    "      np.max(X_valid_normalized))\n",
    "\n",
    "y_test_normalized = np.array(y_test)\n",
    "y_valid_normalized = np.array(y_valid)\n",
    "\n",
    "\n",
    "#reshape X_test_normalized, X_valid_normalized for NN evaluation\n",
    "X_test_normalized = X_test_normalized[..., newaxis]\n",
    "X_valid_normalized = X_valid_normalized[..., newaxis]\n",
    "\n",
    "print(\"X_test shape\", X_test_normalized.shape)\n",
    "print(\"X_valid shape\", X_valid_normalized.shape)\n",
    "print(\"y_test shape\", y_test_normalized.shape)\n",
    "print(\"y_valid shape\", y_test_normalized.shape)"
   ]
  },
  {
   "cell_type": "markdown",
   "metadata": {},
   "source": [
    "### Model Architecture"
   ]
  },
  {
   "cell_type": "code",
   "execution_count": null,
   "metadata": {
    "collapsed": true
   },
   "outputs": [],
   "source": [
    "#Start with basic LeNet Architecture from the Lessons lab\n",
    "\n",
    "import tensorflow as tf\n",
    "from tensorflow.contrib.layers import flatten\n",
    "\n",
    "def LeNet(x):\n",
    "    mu = 0\n",
    "    sigma = 0.1\n",
    "    \n",
    "    l1_output_size = 6\n",
    "    l1_output_shape = (5, 5, 1, l1_output_size)\n",
    "    \n",
    "    l2_output_size = 16\n",
    "    l2_output_shape = (5, 5, l1_output_size, l2_output_size)\n",
    "    \n",
    "    l3_output_size = 120\n",
    "    l3_output_shape = (400, l3_output_size)\n",
    "    \n",
    "    l4_output_size = 84\n",
    "    l4_output_shape = (l3_output_size, l4_output_size)\n",
    "\n",
    "    l5_output_size = 43\n",
    "    l5_output_shape = (l4_output_size, l5_output_size)\n",
    "\n",
    "    #Layer 1: Convolution\n",
    "    conv1_W = tf.Variable(tf.truncated_normal(shape = l1_output_shape, mean = mu, stddev = sigma))\n",
    "    conv1_b = tf.Variable(tf.zeros(l1_output_size))\n",
    "    conv1 = tf.nn.conv2d(x, conv1_W, strides = [1, 1, 1, 1], padding='VALID') + conv1_b\n",
    "    #Layer 1: Activation\n",
    "    conv1 = tf.nn.relu(conv1) \n",
    "    #Layer 1: Pooling\n",
    "    conv1 = tf.nn.max_pool(conv1, ksize=[1, 2, 2, 1], strides=[1, 2, 2, 1], padding='VALID')\n",
    "\n",
    "    #Layer 2: Convolution\n",
    "    conv2_W = tf.Variable(tf.truncated_normal(shape = l2_output_shape, mean = mu, stddev = sigma))\n",
    "    conv2_b = tf.Variable(tf.zeros(l2_output_size))\n",
    "    conv2 = tf.nn.conv2d(conv1, conv2_W, strides = [1, 1, 1, 1], padding='VALID') + conv2_b\n",
    "    #Layer 1: Activation\n",
    "    conv2 = tf.nn.relu(conv2) \n",
    "    #Layer 1: Pooling\n",
    "    conv2 = tf.nn.max_pool(conv2, ksize=[1, 2, 2, 1], strides=[1, 2, 2, 1], padding='VALID')\n",
    "    \n",
    "    #Flatten\n",
    "    fc0 = flatten(conv2)\n",
    "    \n",
    "    #Layer 3: Fully Connected\n",
    "    fc1_W = tf.Variable(tf.truncated_normal(shape=l3_output_shape, mean = mu, stddev = sigma))\n",
    "    fc1_b = tf.Variable(tf.zeros(l3_output_size))\n",
    "    fc1   = tf.matmul(fc0, fc1_W) + fc1_b\n",
    "    #Layer 3: Activation.\n",
    "    fc1    = tf.nn.relu(fc1)\n",
    "\n",
    "    #Layer 4: Fully Connected\n",
    "    fc2_W  = tf.Variable(tf.truncated_normal(shape=l4_output_shape, mean = mu, stddev = sigma))\n",
    "    fc2_b  = tf.Variable(tf.zeros(l4_output_size))\n",
    "    fc2    = tf.matmul(fc1, fc2_W) + fc2_b    \n",
    "    #Layer 4: Activation.\n",
    "    fc2    = tf.nn.relu(fc2)\n",
    "\n",
    "    #Layer 5: Fully Connected\n",
    "    fc3_W  = tf.Variable(tf.truncated_normal(shape=l5_output_shape, mean = mu, stddev = sigma))\n",
    "    fc3_b  = tf.Variable(tf.zeros(l5_output_size))\n",
    "    logits = tf.matmul(fc2, fc3_W) + fc3_b\n",
    "    \n",
    "    return logits"
   ]
  },
  {
   "cell_type": "markdown",
   "metadata": {},
   "source": [
    "### Train, Validate and Test the Model"
   ]
  },
  {
   "cell_type": "code",
   "execution_count": null,
   "metadata": {
    "collapsed": false
   },
   "outputs": [],
   "source": [
    "#Setup the Training Pipeline\n",
    "x = tf.placeholder(tf.float32, (None, 32, 32, 1))\n",
    "y = tf.placeholder(tf.int32, (None))\n",
    "one_hot_y = tf.one_hot(y, 43)\n",
    "\n",
    "rate = 0.001\n",
    "\n",
    "logits = LeNet(x)\n",
    "cross_entropy = tf.nn.softmax_cross_entropy_with_logits(logits=logits, labels=one_hot_y)\n",
    "loss_operation = tf.reduce_mean(cross_entropy)\n",
    "optimizer = tf.train.AdamOptimizer(learning_rate = rate)\n",
    "training_operation = optimizer.minimize(loss_operation)"
   ]
  },
  {
   "cell_type": "code",
   "execution_count": null,
   "metadata": {
    "collapsed": true
   },
   "outputs": [],
   "source": [
    "#Setup the Model Evaluation\n",
    "correct_prediction = tf.equal(tf.argmax(logits, 1), tf.argmax(one_hot_y, 1))\n",
    "accuracy_operation = tf.reduce_mean(tf.cast(correct_prediction, tf.float32))\n",
    "saver = tf.train.Saver()\n",
    "\n",
    "def evaluate(X_data, y_data):\n",
    "    num_examples = len(X_data)\n",
    "    total_accuracy = 0\n",
    "    sess = tf.get_default_session()\n",
    "    for offset in range(0, num_examples, BATCH_SIZE):\n",
    "        batch_x, batch_y = X_data[offset:offset+BATCH_SIZE], y_data[offset:offset+BATCH_SIZE]\n",
    "        accuracy = sess.run(accuracy_operation, feed_dict={x: batch_x, y: batch_y})\n",
    "        total_accuracy += (accuracy * len(batch_x))\n",
    "    return total_accuracy / num_examples"
   ]
  },
  {
   "cell_type": "markdown",
   "metadata": {},
   "source": [
    "A validation set can be used to assess how well the model is performing. A low accuracy on the training and validation\n",
    "sets imply underfitting. A high accuracy on the test set but low accuracy on the validation set implies overfitting."
   ]
  },
  {
   "cell_type": "code",
   "execution_count": null,
   "metadata": {
    "collapsed": false
   },
   "outputs": [],
   "source": [
    "### Train your model here.\n",
    "### Calculate and report the accuracy on the training and validation set.\n",
    "### Once a final model architecture is selected, \n",
    "### the accuracy on the test set should be calculated and reported as well.\n",
    "### Feel free to use as many code cells as needed.\n",
    "\n",
    "from sklearn.utils import shuffle\n",
    "\n",
    "EPOCHS = 40\n",
    "BATCH_SIZE = 128\n",
    "    \n",
    "with tf.Session() as sess:\n",
    "    sess.run(tf.global_variables_initializer())\n",
    "    num_examples = len(X_train_normalized)\n",
    "    \n",
    "    print(\"Training...\")\n",
    "    print()\n",
    "    for i in range(EPOCHS):\n",
    "        X_train_normalized, y_train_normalized = shuffle(X_train_normalized, y_train_normalized)\n",
    "        for offset in range(0, num_examples, BATCH_SIZE):\n",
    "            end = offset + BATCH_SIZE\n",
    "            batch_x, batch_y = X_train_normalized[offset:end], y_train_normalized[offset:end]\n",
    "            sess.run(training_operation, feed_dict={x: batch_x, y: batch_y})\n",
    "            \n",
    "        validation_accuracy = evaluate(X_test_normalized, y_test_normalized)\n",
    "        print(\"EPOCH {} ...\".format(i+1))\n",
    "        print(\"Validation Accuracy = {:.3f}\".format(validation_accuracy))\n",
    "        print()\n",
    "        \n",
    "    saver.save(sess, './lenet')\n",
    "    print(\"Model saved\")"
   ]
  },
  {
   "cell_type": "markdown",
   "metadata": {},
   "source": [
    "---\n",
    "\n",
    "## Step 3: Test a Model on New Images\n",
    "\n",
    "To give yourself more insight into how your model is working, download at least five pictures of German traffic signs from the web and use your model to predict the traffic sign type.\n",
    "\n",
    "You may find `signnames.csv` useful as it contains mappings from the class id (integer) to the actual sign name."
   ]
  },
  {
   "cell_type": "markdown",
   "metadata": {},
   "source": [
    "### Load and Output the Images"
   ]
  },
  {
   "cell_type": "code",
   "execution_count": null,
   "metadata": {
    "collapsed": true
   },
   "outputs": [],
   "source": [
    "### Load the images and plot them here.\n",
    "### Feel free to use as many code cells as needed."
   ]
  },
  {
   "cell_type": "markdown",
   "metadata": {},
   "source": [
    "### Predict the Sign Type for Each Image"
   ]
  },
  {
   "cell_type": "code",
   "execution_count": null,
   "metadata": {
    "collapsed": true
   },
   "outputs": [],
   "source": [
    "### Run the predictions here and use the model to output the prediction for each image.\n",
    "### Make sure to pre-process the images with the same pre-processing pipeline used earlier.\n",
    "### Feel free to use as many code cells as needed."
   ]
  },
  {
   "cell_type": "markdown",
   "metadata": {},
   "source": [
    "### Analyze Performance"
   ]
  },
  {
   "cell_type": "code",
   "execution_count": null,
   "metadata": {
    "collapsed": true
   },
   "outputs": [],
   "source": [
    "### Calculate the accuracy for these 5 new images. \n",
    "### For example, if the model predicted 1 out of 5 signs correctly, it's 20% accurate on these new images."
   ]
  },
  {
   "cell_type": "markdown",
   "metadata": {},
   "source": [
    "### Output Top 5 Softmax Probabilities For Each Image Found on the Web"
   ]
  },
  {
   "cell_type": "markdown",
   "metadata": {},
   "source": [
    "For each of the new images, print out the model's softmax probabilities to show the **certainty** of the model's predictions (limit the output to the top 5 probabilities for each image). [`tf.nn.top_k`](https://www.tensorflow.org/versions/r0.12/api_docs/python/nn.html#top_k) could prove helpful here. \n",
    "\n",
    "The example below demonstrates how tf.nn.top_k can be used to find the top k predictions for each image.\n",
    "\n",
    "`tf.nn.top_k` will return the values and indices (class ids) of the top k predictions. So if k=3, for each sign, it'll return the 3 largest probabilities (out of a possible 43) and the correspoding class ids.\n",
    "\n",
    "Take this numpy array as an example. The values in the array represent predictions. The array contains softmax probabilities for five candidate images with six possible classes. `tk.nn.top_k` is used to choose the three classes with the highest probability:\n",
    "\n",
    "```\n",
    "# (5, 6) array\n",
    "a = np.array([[ 0.24879643,  0.07032244,  0.12641572,  0.34763842,  0.07893497,\n",
    "         0.12789202],\n",
    "       [ 0.28086119,  0.27569815,  0.08594638,  0.0178669 ,  0.18063401,\n",
    "         0.15899337],\n",
    "       [ 0.26076848,  0.23664738,  0.08020603,  0.07001922,  0.1134371 ,\n",
    "         0.23892179],\n",
    "       [ 0.11943333,  0.29198961,  0.02605103,  0.26234032,  0.1351348 ,\n",
    "         0.16505091],\n",
    "       [ 0.09561176,  0.34396535,  0.0643941 ,  0.16240774,  0.24206137,\n",
    "         0.09155967]])\n",
    "```\n",
    "\n",
    "Running it through `sess.run(tf.nn.top_k(tf.constant(a), k=3))` produces:\n",
    "\n",
    "```\n",
    "TopKV2(values=array([[ 0.34763842,  0.24879643,  0.12789202],\n",
    "       [ 0.28086119,  0.27569815,  0.18063401],\n",
    "       [ 0.26076848,  0.23892179,  0.23664738],\n",
    "       [ 0.29198961,  0.26234032,  0.16505091],\n",
    "       [ 0.34396535,  0.24206137,  0.16240774]]), indices=array([[3, 0, 5],\n",
    "       [0, 1, 4],\n",
    "       [0, 5, 1],\n",
    "       [1, 3, 5],\n",
    "       [1, 4, 3]], dtype=int32))\n",
    "```\n",
    "\n",
    "Looking just at the first row we get `[ 0.34763842,  0.24879643,  0.12789202]`, you can confirm these are the 3 largest probabilities in `a`. You'll also notice `[3, 0, 5]` are the corresponding indices."
   ]
  },
  {
   "cell_type": "code",
   "execution_count": null,
   "metadata": {
    "collapsed": true
   },
   "outputs": [],
   "source": [
    "### Print out the top five softmax probabilities for the predictions on the German traffic sign images found on the web. \n",
    "### Feel free to use as many code cells as needed."
   ]
  },
  {
   "cell_type": "markdown",
   "metadata": {},
   "source": [
    "> **Note**: Once you have completed all of the code implementations, you need to finalize your work by exporting the IPython Notebook as an HTML document. Before exporting the notebook to html, all of the code cells need to have been run. You can then export the notebook by using the menu above and navigating to  \\n\",\n",
    "    \"**File -> Download as -> HTML (.html)**. Include the finished document along with this notebook as your submission. "
   ]
  },
  {
   "cell_type": "markdown",
   "metadata": {},
   "source": [
    "### Project Writeup\n",
    "\n",
    "Once you have completed the code implementation, document your results in a project writeup using this [template](https://github.com/udacity/CarND-Traffic-Sign-Classifier-Project/blob/master/writeup_template.md) as a guide. The writeup can be in a markdown or pdf file. "
   ]
  }
 ],
 "metadata": {
  "anaconda-cloud": {},
  "kernelspec": {
   "display_name": "Python 3",
   "language": "python",
   "name": "python3"
  },
  "language_info": {
   "codemirror_mode": {
    "name": "ipython",
    "version": 3.0
   },
   "file_extension": ".py",
   "mimetype": "text/x-python",
   "name": "python",
   "nbconvert_exporter": "python",
   "pygments_lexer": "ipython3",
   "version": "3.5.2"
  }
 },
 "nbformat": 4,
 "nbformat_minor": 0
}